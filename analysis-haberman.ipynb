{
 "cells": [
  {
   "cell_type": "code",
   "execution_count": 1,
   "metadata": {
    "_cell_guid": "b1076dfc-b9ad-4769-8c92-a6c4dae69d19",
    "_uuid": "8f2839f25d086af736a60e9eeb907d3b93b6e0e5",
    "execution": {
     "iopub.execute_input": "2020-08-07T20:32:44.339552Z",
     "iopub.status.busy": "2020-08-07T20:32:44.338298Z",
     "iopub.status.idle": "2020-08-07T20:32:44.348070Z",
     "shell.execute_reply": "2020-08-07T20:32:44.347325Z"
    },
    "papermill": {
     "duration": 0.040077,
     "end_time": "2020-08-07T20:32:44.348234",
     "exception": false,
     "start_time": "2020-08-07T20:32:44.308157",
     "status": "completed"
    },
    "tags": []
   },
   "outputs": [
    {
     "name": "stdout",
     "output_type": "stream",
     "text": [
      "/kaggle/input/habermans-survival-data-set/haberman.csv\n"
     ]
    }
   ],
   "source": [
    "# This Python 3 environment comes with many helpful analytics libraries installed\n",
    "# It is defined by the kaggle/python Docker image: https://github.com/kaggle/docker-python\n",
    "# For example, here's several helpful packages to load\n",
    "\n",
    "import numpy as np # linear algebra\n",
    "import pandas as pd # data processing, CSV file I/O (e.g. pd.read_csv)\n",
    "\n",
    "# Input data files are available in the read-only \"../input/\" directory\n",
    "# For example, running this (by clicking run or pressing Shift+Enter) will list all files under the input directory\n",
    "\n",
    "import os\n",
    "for dirname, _, filenames in os.walk('/kaggle/input'):\n",
    "    for filename in filenames:\n",
    "        print(os.path.join(dirname, filename))\n",
    "\n",
    "# You can write up to 5GB to the current directory (/kaggle/working/) that gets preserved as output when you create a version using \"Save & Run All\" \n",
    "# You can also write temporary files to /kaggle/temp/, but they won't be saved outside of the current session"
   ]
  },
  {
   "cell_type": "markdown",
   "execution_count": null,
   "metadata": {
    "papermill": {
     "duration": 0.01638,
     "end_time": "2020-08-07T20:32:44.381869",
     "exception": false,
     "start_time": "2020-08-07T20:32:44.365489",
     "status": "completed"
    },
    "tags": []
   },
   "source": [
    "**Importing The Packages**"
   ]
  },
  {
   "cell_type": "code",
   "execution_count": 2,
   "metadata": {
    "execution": {
     "iopub.execute_input": "2020-08-07T20:32:44.421928Z",
     "iopub.status.busy": "2020-08-07T20:32:44.421120Z",
     "iopub.status.idle": "2020-08-07T20:32:45.663145Z",
     "shell.execute_reply": "2020-08-07T20:32:45.662298Z"
    },
    "papermill": {
     "duration": 1.264435,
     "end_time": "2020-08-07T20:32:45.663297",
     "exception": false,
     "start_time": "2020-08-07T20:32:44.398862",
     "status": "completed"
    },
    "tags": []
   },
   "outputs": [],
   "source": [
    "import seaborn as sns\n",
    "import matplotlib.pyplot as plt"
   ]
  },
  {
   "cell_type": "markdown",
   "execution_count": null,
   "metadata": {
    "papermill": {
     "duration": 0.015737,
     "end_time": "2020-08-07T20:32:45.697514",
     "exception": false,
     "start_time": "2020-08-07T20:32:45.681777",
     "status": "completed"
    },
    "tags": []
   },
   "source": [
    "**Loading The Dataset**"
   ]
  },
  {
   "cell_type": "code",
   "execution_count": 3,
   "metadata": {
    "execution": {
     "iopub.execute_input": "2020-08-07T20:32:45.738056Z",
     "iopub.status.busy": "2020-08-07T20:32:45.736951Z",
     "iopub.status.idle": "2020-08-07T20:32:45.750341Z",
     "shell.execute_reply": "2020-08-07T20:32:45.749692Z"
    },
    "papermill": {
     "duration": 0.036856,
     "end_time": "2020-08-07T20:32:45.750495",
     "exception": false,
     "start_time": "2020-08-07T20:32:45.713639",
     "status": "completed"
    },
    "tags": []
   },
   "outputs": [],
   "source": [
    "hab_data = pd.read_csv(\"/kaggle/input/habermans-survival-data-set/haberman.csv\")"
   ]
  },
  {
   "cell_type": "markdown",
   "execution_count": null,
   "metadata": {
    "papermill": {
     "duration": 0.016191,
     "end_time": "2020-08-07T20:32:45.783516",
     "exception": false,
     "start_time": "2020-08-07T20:32:45.767325",
     "status": "completed"
    },
    "tags": []
   },
   "source": [
    "**Printing The First 5 Rows**"
   ]
  },
  {
   "cell_type": "code",
   "execution_count": 4,
   "metadata": {
    "execution": {
     "iopub.execute_input": "2020-08-07T20:32:45.831133Z",
     "iopub.status.busy": "2020-08-07T20:32:45.830009Z",
     "iopub.status.idle": "2020-08-07T20:32:45.841173Z",
     "shell.execute_reply": "2020-08-07T20:32:45.840377Z"
    },
    "papermill": {
     "duration": 0.041447,
     "end_time": "2020-08-07T20:32:45.841325",
     "exception": false,
     "start_time": "2020-08-07T20:32:45.799878",
     "status": "completed"
    },
    "tags": []
   },
   "outputs": [
    {
     "data": {
      "text/html": [
       "<div>\n",
       "<style scoped>\n",
       "    .dataframe tbody tr th:only-of-type {\n",
       "        vertical-align: middle;\n",
       "    }\n",
       "\n",
       "    .dataframe tbody tr th {\n",
       "        vertical-align: top;\n",
       "    }\n",
       "\n",
       "    .dataframe thead th {\n",
       "        text-align: right;\n",
       "    }\n",
       "</style>\n",
       "<table border=\"1\" class=\"dataframe\">\n",
       "  <thead>\n",
       "    <tr style=\"text-align: right;\">\n",
       "      <th></th>\n",
       "      <th>30</th>\n",
       "      <th>64</th>\n",
       "      <th>1</th>\n",
       "      <th>1.1</th>\n",
       "    </tr>\n",
       "  </thead>\n",
       "  <tbody>\n",
       "    <tr>\n",
       "      <th>0</th>\n",
       "      <td>30</td>\n",
       "      <td>62</td>\n",
       "      <td>3</td>\n",
       "      <td>1</td>\n",
       "    </tr>\n",
       "    <tr>\n",
       "      <th>1</th>\n",
       "      <td>30</td>\n",
       "      <td>65</td>\n",
       "      <td>0</td>\n",
       "      <td>1</td>\n",
       "    </tr>\n",
       "    <tr>\n",
       "      <th>2</th>\n",
       "      <td>31</td>\n",
       "      <td>59</td>\n",
       "      <td>2</td>\n",
       "      <td>1</td>\n",
       "    </tr>\n",
       "    <tr>\n",
       "      <th>3</th>\n",
       "      <td>31</td>\n",
       "      <td>65</td>\n",
       "      <td>4</td>\n",
       "      <td>1</td>\n",
       "    </tr>\n",
       "    <tr>\n",
       "      <th>4</th>\n",
       "      <td>33</td>\n",
       "      <td>58</td>\n",
       "      <td>10</td>\n",
       "      <td>1</td>\n",
       "    </tr>\n",
       "  </tbody>\n",
       "</table>\n",
       "</div>"
      ],
      "text/plain": [
       "   30  64   1  1.1\n",
       "0  30  62   3    1\n",
       "1  30  65   0    1\n",
       "2  31  59   2    1\n",
       "3  31  65   4    1\n",
       "4  33  58  10    1"
      ]
     },
     "execution_count": 4,
     "metadata": {},
     "output_type": "execute_result"
    }
   ],
   "source": [
    "hab_data.head()"
   ]
  },
  {
   "cell_type": "code",
   "execution_count": 5,
   "metadata": {
    "execution": {
     "iopub.execute_input": "2020-08-07T20:32:45.888393Z",
     "iopub.status.busy": "2020-08-07T20:32:45.887257Z",
     "iopub.status.idle": "2020-08-07T20:32:45.892683Z",
     "shell.execute_reply": "2020-08-07T20:32:45.892061Z"
    },
    "papermill": {
     "duration": 0.034124,
     "end_time": "2020-08-07T20:32:45.892841",
     "exception": false,
     "start_time": "2020-08-07T20:32:45.858717",
     "status": "completed"
    },
    "tags": []
   },
   "outputs": [
    {
     "data": {
      "text/html": [
       "<div>\n",
       "<style scoped>\n",
       "    .dataframe tbody tr th:only-of-type {\n",
       "        vertical-align: middle;\n",
       "    }\n",
       "\n",
       "    .dataframe tbody tr th {\n",
       "        vertical-align: top;\n",
       "    }\n",
       "\n",
       "    .dataframe thead th {\n",
       "        text-align: right;\n",
       "    }\n",
       "</style>\n",
       "<table border=\"1\" class=\"dataframe\">\n",
       "  <thead>\n",
       "    <tr style=\"text-align: right;\">\n",
       "      <th></th>\n",
       "      <th>30</th>\n",
       "      <th>64</th>\n",
       "      <th>1</th>\n",
       "      <th>1.1</th>\n",
       "    </tr>\n",
       "  </thead>\n",
       "  <tbody>\n",
       "    <tr>\n",
       "      <th>300</th>\n",
       "      <td>75</td>\n",
       "      <td>62</td>\n",
       "      <td>1</td>\n",
       "      <td>1</td>\n",
       "    </tr>\n",
       "    <tr>\n",
       "      <th>301</th>\n",
       "      <td>76</td>\n",
       "      <td>67</td>\n",
       "      <td>0</td>\n",
       "      <td>1</td>\n",
       "    </tr>\n",
       "    <tr>\n",
       "      <th>302</th>\n",
       "      <td>77</td>\n",
       "      <td>65</td>\n",
       "      <td>3</td>\n",
       "      <td>1</td>\n",
       "    </tr>\n",
       "    <tr>\n",
       "      <th>303</th>\n",
       "      <td>78</td>\n",
       "      <td>65</td>\n",
       "      <td>1</td>\n",
       "      <td>2</td>\n",
       "    </tr>\n",
       "    <tr>\n",
       "      <th>304</th>\n",
       "      <td>83</td>\n",
       "      <td>58</td>\n",
       "      <td>2</td>\n",
       "      <td>2</td>\n",
       "    </tr>\n",
       "  </tbody>\n",
       "</table>\n",
       "</div>"
      ],
      "text/plain": [
       "     30  64  1  1.1\n",
       "300  75  62  1    1\n",
       "301  76  67  0    1\n",
       "302  77  65  3    1\n",
       "303  78  65  1    2\n",
       "304  83  58  2    2"
      ]
     },
     "execution_count": 5,
     "metadata": {},
     "output_type": "execute_result"
    }
   ],
   "source": [
    "hab_data.tail()"
   ]
  },
  {
   "cell_type": "markdown",
   "execution_count": null,
   "metadata": {
    "papermill": {
     "duration": 0.017205,
     "end_time": "2020-08-07T20:32:45.927681",
     "exception": false,
     "start_time": "2020-08-07T20:32:45.910476",
     "status": "completed"
    },
    "tags": []
   },
   "source": [
    "**Data Points and Data Features**"
   ]
  },
  {
   "cell_type": "code",
   "execution_count": 6,
   "metadata": {
    "execution": {
     "iopub.execute_input": "2020-08-07T20:32:45.968955Z",
     "iopub.status.busy": "2020-08-07T20:32:45.967984Z",
     "iopub.status.idle": "2020-08-07T20:32:45.972895Z",
     "shell.execute_reply": "2020-08-07T20:32:45.971885Z"
    },
    "papermill": {
     "duration": 0.028058,
     "end_time": "2020-08-07T20:32:45.973085",
     "exception": false,
     "start_time": "2020-08-07T20:32:45.945027",
     "status": "completed"
    },
    "tags": []
   },
   "outputs": [
    {
     "name": "stdout",
     "output_type": "stream",
     "text": [
      "(305, 4)\n"
     ]
    }
   ],
   "source": [
    "print (hab_data.shape)"
   ]
  },
  {
   "cell_type": "code",
   "execution_count": 7,
   "metadata": {
    "execution": {
     "iopub.execute_input": "2020-08-07T20:32:46.030885Z",
     "iopub.status.busy": "2020-08-07T20:32:46.029707Z",
     "iopub.status.idle": "2020-08-07T20:32:46.056194Z",
     "shell.execute_reply": "2020-08-07T20:32:46.056793Z"
    },
    "papermill": {
     "duration": 0.06507,
     "end_time": "2020-08-07T20:32:46.056974",
     "exception": false,
     "start_time": "2020-08-07T20:32:45.991904",
     "status": "completed"
    },
    "tags": []
   },
   "outputs": [
    {
     "data": {
      "text/html": [
       "<div>\n",
       "<style scoped>\n",
       "    .dataframe tbody tr th:only-of-type {\n",
       "        vertical-align: middle;\n",
       "    }\n",
       "\n",
       "    .dataframe tbody tr th {\n",
       "        vertical-align: top;\n",
       "    }\n",
       "\n",
       "    .dataframe thead th {\n",
       "        text-align: right;\n",
       "    }\n",
       "</style>\n",
       "<table border=\"1\" class=\"dataframe\">\n",
       "  <thead>\n",
       "    <tr style=\"text-align: right;\">\n",
       "      <th></th>\n",
       "      <th>30</th>\n",
       "      <th>64</th>\n",
       "      <th>1</th>\n",
       "      <th>1.1</th>\n",
       "    </tr>\n",
       "  </thead>\n",
       "  <tbody>\n",
       "    <tr>\n",
       "      <th>count</th>\n",
       "      <td>305.000000</td>\n",
       "      <td>305.000000</td>\n",
       "      <td>305.000000</td>\n",
       "      <td>305.000000</td>\n",
       "    </tr>\n",
       "    <tr>\n",
       "      <th>mean</th>\n",
       "      <td>52.531148</td>\n",
       "      <td>62.849180</td>\n",
       "      <td>4.036066</td>\n",
       "      <td>1.265574</td>\n",
       "    </tr>\n",
       "    <tr>\n",
       "      <th>std</th>\n",
       "      <td>10.744024</td>\n",
       "      <td>3.254078</td>\n",
       "      <td>7.199370</td>\n",
       "      <td>0.442364</td>\n",
       "    </tr>\n",
       "    <tr>\n",
       "      <th>min</th>\n",
       "      <td>30.000000</td>\n",
       "      <td>58.000000</td>\n",
       "      <td>0.000000</td>\n",
       "      <td>1.000000</td>\n",
       "    </tr>\n",
       "    <tr>\n",
       "      <th>25%</th>\n",
       "      <td>44.000000</td>\n",
       "      <td>60.000000</td>\n",
       "      <td>0.000000</td>\n",
       "      <td>1.000000</td>\n",
       "    </tr>\n",
       "    <tr>\n",
       "      <th>50%</th>\n",
       "      <td>52.000000</td>\n",
       "      <td>63.000000</td>\n",
       "      <td>1.000000</td>\n",
       "      <td>1.000000</td>\n",
       "    </tr>\n",
       "    <tr>\n",
       "      <th>75%</th>\n",
       "      <td>61.000000</td>\n",
       "      <td>66.000000</td>\n",
       "      <td>4.000000</td>\n",
       "      <td>2.000000</td>\n",
       "    </tr>\n",
       "    <tr>\n",
       "      <th>max</th>\n",
       "      <td>83.000000</td>\n",
       "      <td>69.000000</td>\n",
       "      <td>52.000000</td>\n",
       "      <td>2.000000</td>\n",
       "    </tr>\n",
       "  </tbody>\n",
       "</table>\n",
       "</div>"
      ],
      "text/plain": [
       "               30          64           1         1.1\n",
       "count  305.000000  305.000000  305.000000  305.000000\n",
       "mean    52.531148   62.849180    4.036066    1.265574\n",
       "std     10.744024    3.254078    7.199370    0.442364\n",
       "min     30.000000   58.000000    0.000000    1.000000\n",
       "25%     44.000000   60.000000    0.000000    1.000000\n",
       "50%     52.000000   63.000000    1.000000    1.000000\n",
       "75%     61.000000   66.000000    4.000000    2.000000\n",
       "max     83.000000   69.000000   52.000000    2.000000"
      ]
     },
     "execution_count": 7,
     "metadata": {},
     "output_type": "execute_result"
    }
   ],
   "source": [
    "hab_data.describe()"
   ]
  },
  {
   "cell_type": "markdown",
   "execution_count": null,
   "metadata": {
    "papermill": {
     "duration": 0.016989,
     "end_time": "2020-08-07T20:32:46.091400",
     "exception": false,
     "start_time": "2020-08-07T20:32:46.074411",
     "status": "completed"
    },
    "tags": []
   },
   "source": [
    "**Adding headers to columns**"
   ]
  },
  {
   "cell_type": "code",
   "execution_count": 8,
   "metadata": {
    "execution": {
     "iopub.execute_input": "2020-08-07T20:32:46.135505Z",
     "iopub.status.busy": "2020-08-07T20:32:46.134528Z",
     "iopub.status.idle": "2020-08-07T20:32:46.139438Z",
     "shell.execute_reply": "2020-08-07T20:32:46.138397Z"
    },
    "papermill": {
     "duration": 0.030595,
     "end_time": "2020-08-07T20:32:46.139584",
     "exception": false,
     "start_time": "2020-08-07T20:32:46.108989",
     "status": "completed"
    },
    "tags": []
   },
   "outputs": [
    {
     "name": "stdout",
     "output_type": "stream",
     "text": [
      "Index(['Age', 'Year', 'Axillary nodes', 'Survival status'], dtype='object')\n"
     ]
    }
   ],
   "source": [
    "hab_data.columns = [\"Age\",\"Year\",\"Axillary nodes\",\"Survival status\"]\n",
    "print (hab_data.columns)"
   ]
  },
  {
   "cell_type": "markdown",
   "execution_count": null,
   "metadata": {
    "papermill": {
     "duration": 0.017159,
     "end_time": "2020-08-07T20:32:46.174324",
     "exception": false,
     "start_time": "2020-08-07T20:32:46.157165",
     "status": "completed"
    },
    "tags": []
   },
   "source": [
    "**Printing the first 5 rows with their column headers**"
   ]
  },
  {
   "cell_type": "code",
   "execution_count": 9,
   "metadata": {
    "execution": {
     "iopub.execute_input": "2020-08-07T20:32:46.223053Z",
     "iopub.status.busy": "2020-08-07T20:32:46.221980Z",
     "iopub.status.idle": "2020-08-07T20:32:46.228150Z",
     "shell.execute_reply": "2020-08-07T20:32:46.227415Z"
    },
    "papermill": {
     "duration": 0.03638,
     "end_time": "2020-08-07T20:32:46.228306",
     "exception": false,
     "start_time": "2020-08-07T20:32:46.191926",
     "status": "completed"
    },
    "tags": []
   },
   "outputs": [
    {
     "data": {
      "text/html": [
       "<div>\n",
       "<style scoped>\n",
       "    .dataframe tbody tr th:only-of-type {\n",
       "        vertical-align: middle;\n",
       "    }\n",
       "\n",
       "    .dataframe tbody tr th {\n",
       "        vertical-align: top;\n",
       "    }\n",
       "\n",
       "    .dataframe thead th {\n",
       "        text-align: right;\n",
       "    }\n",
       "</style>\n",
       "<table border=\"1\" class=\"dataframe\">\n",
       "  <thead>\n",
       "    <tr style=\"text-align: right;\">\n",
       "      <th></th>\n",
       "      <th>Age</th>\n",
       "      <th>Year</th>\n",
       "      <th>Axillary nodes</th>\n",
       "      <th>Survival status</th>\n",
       "    </tr>\n",
       "  </thead>\n",
       "  <tbody>\n",
       "    <tr>\n",
       "      <th>0</th>\n",
       "      <td>30</td>\n",
       "      <td>62</td>\n",
       "      <td>3</td>\n",
       "      <td>1</td>\n",
       "    </tr>\n",
       "    <tr>\n",
       "      <th>1</th>\n",
       "      <td>30</td>\n",
       "      <td>65</td>\n",
       "      <td>0</td>\n",
       "      <td>1</td>\n",
       "    </tr>\n",
       "    <tr>\n",
       "      <th>2</th>\n",
       "      <td>31</td>\n",
       "      <td>59</td>\n",
       "      <td>2</td>\n",
       "      <td>1</td>\n",
       "    </tr>\n",
       "    <tr>\n",
       "      <th>3</th>\n",
       "      <td>31</td>\n",
       "      <td>65</td>\n",
       "      <td>4</td>\n",
       "      <td>1</td>\n",
       "    </tr>\n",
       "    <tr>\n",
       "      <th>4</th>\n",
       "      <td>33</td>\n",
       "      <td>58</td>\n",
       "      <td>10</td>\n",
       "      <td>1</td>\n",
       "    </tr>\n",
       "  </tbody>\n",
       "</table>\n",
       "</div>"
      ],
      "text/plain": [
       "   Age  Year  Axillary nodes  Survival status\n",
       "0   30    62               3                1\n",
       "1   30    65               0                1\n",
       "2   31    59               2                1\n",
       "3   31    65               4                1\n",
       "4   33    58              10                1"
      ]
     },
     "execution_count": 9,
     "metadata": {},
     "output_type": "execute_result"
    }
   ],
   "source": [
    "hab_data.head()"
   ]
  },
  {
   "cell_type": "markdown",
   "execution_count": null,
   "metadata": {
    "papermill": {
     "duration": 0.018368,
     "end_time": "2020-08-07T20:32:46.265871",
     "exception": false,
     "start_time": "2020-08-07T20:32:46.247503",
     "status": "completed"
    },
    "tags": []
   },
   "source": [
    "**A check on survival of patients and deaths of patients within 5 years and more**"
   ]
  },
  {
   "cell_type": "code",
   "execution_count": 10,
   "metadata": {
    "execution": {
     "iopub.execute_input": "2020-08-07T20:32:46.313250Z",
     "iopub.status.busy": "2020-08-07T20:32:46.312336Z",
     "iopub.status.idle": "2020-08-07T20:32:46.316990Z",
     "shell.execute_reply": "2020-08-07T20:32:46.316308Z"
    },
    "papermill": {
     "duration": 0.032668,
     "end_time": "2020-08-07T20:32:46.317158",
     "exception": false,
     "start_time": "2020-08-07T20:32:46.284490",
     "status": "completed"
    },
    "tags": []
   },
   "outputs": [
    {
     "data": {
      "text/plain": [
       "1    224\n",
       "2     81\n",
       "Name: Survival status, dtype: int64"
      ]
     },
     "execution_count": 10,
     "metadata": {},
     "output_type": "execute_result"
    }
   ],
   "source": [
    "hab_data[\"Survival status\"].value_counts()"
   ]
  },
  {
   "cell_type": "code",
   "execution_count": 11,
   "metadata": {
    "execution": {
     "iopub.execute_input": "2020-08-07T20:32:46.368293Z",
     "iopub.status.busy": "2020-08-07T20:32:46.367441Z",
     "iopub.status.idle": "2020-08-07T20:32:46.370780Z",
     "shell.execute_reply": "2020-08-07T20:32:46.371348Z"
    },
    "papermill": {
     "duration": 0.035153,
     "end_time": "2020-08-07T20:32:46.371551",
     "exception": false,
     "start_time": "2020-08-07T20:32:46.336398",
     "status": "completed"
    },
    "tags": []
   },
   "outputs": [
    {
     "name": "stdout",
     "output_type": "stream",
     "text": [
      "<class 'pandas.core.frame.DataFrame'>\n",
      "RangeIndex: 305 entries, 0 to 304\n",
      "Data columns (total 4 columns):\n",
      " #   Column           Non-Null Count  Dtype\n",
      "---  ------           --------------  -----\n",
      " 0   Age              305 non-null    int64\n",
      " 1   Year             305 non-null    int64\n",
      " 2   Axillary nodes   305 non-null    int64\n",
      " 3   Survival status  305 non-null    int64\n",
      "dtypes: int64(4)\n",
      "memory usage: 9.7 KB\n",
      "None\n"
     ]
    }
   ],
   "source": [
    "print(hab_data.info())"
   ]
  },
  {
   "cell_type": "markdown",
   "execution_count": null,
   "metadata": {
    "papermill": {
     "duration": 0.019234,
     "end_time": "2020-08-07T20:32:46.409743",
     "exception": false,
     "start_time": "2020-08-07T20:32:46.390509",
     "status": "completed"
    },
    "tags": []
   },
   "source": [
    "***Observation***\n",
    "\n",
    "**1. Imbalanced Dataset**\n",
    "\n",
    "**2. It can be seen that data is imbalanced as within 5 years and more 224 survived and 81 died**"
   ]
  },
  {
   "cell_type": "markdown",
   "execution_count": null,
   "metadata": {
    "papermill": {
     "duration": 0.018897,
     "end_time": "2020-08-07T20:32:46.447795",
     "exception": false,
     "start_time": "2020-08-07T20:32:46.428898",
     "status": "completed"
    },
    "tags": []
   },
   "source": [
    "**Objective here is to predict whether the patient will survive after 5 years or not based upon the patient's age, year of treatment and the number of positive lymph nodes**"
   ]
  },
  {
   "cell_type": "markdown",
   "execution_count": null,
   "metadata": {
    "papermill": {
     "duration": 0.01836,
     "end_time": "2020-08-07T20:32:46.486477",
     "exception": false,
     "start_time": "2020-08-07T20:32:46.468117",
     "status": "completed"
    },
    "tags": []
   },
   "source": [
    "**Univariate Analysis**"
   ]
  },
  {
   "cell_type": "markdown",
   "execution_count": null,
   "metadata": {
    "papermill": {
     "duration": 0.017933,
     "end_time": "2020-08-07T20:32:46.523788",
     "exception": false,
     "start_time": "2020-08-07T20:32:46.505855",
     "status": "completed"
    },
    "tags": []
   },
   "source": [
    "**PDF**"
   ]
  },
  {
   "cell_type": "markdown",
   "execution_count": null,
   "metadata": {
    "papermill": {
     "duration": 0.017787,
     "end_time": "2020-08-07T20:32:46.559744",
     "exception": false,
     "start_time": "2020-08-07T20:32:46.541957",
     "status": "completed"
    },
    "tags": []
   },
   "source": [
    "**Histogram**"
   ]
  },
  {
   "cell_type": "markdown",
   "execution_count": null,
   "metadata": {
    "papermill": {
     "duration": 0.017654,
     "end_time": "2020-08-07T20:32:46.595709",
     "exception": false,
     "start_time": "2020-08-07T20:32:46.578055",
     "status": "completed"
    },
    "tags": []
   },
   "source": [
    "**Based On Year**"
   ]
  },
  {
   "cell_type": "code",
   "execution_count": 12,
   "metadata": {
    "execution": {
     "iopub.execute_input": "2020-08-07T20:32:46.641454Z",
     "iopub.status.busy": "2020-08-07T20:32:46.640224Z",
     "iopub.status.idle": "2020-08-07T20:32:47.132539Z",
     "shell.execute_reply": "2020-08-07T20:32:47.131744Z"
    },
    "papermill": {
     "duration": 0.517626,
     "end_time": "2020-08-07T20:32:47.132717",
     "exception": false,
     "start_time": "2020-08-07T20:32:46.615091",
     "status": "completed"
    },
    "tags": []
   },
   "outputs": [
    {
     "data": {
      "image/png": "[encoded data removed]",
      "text/plain": [
       "<Figure size 442.25x360 with 1 Axes>"
      ]
     },
     "metadata": {
      "needs_background": "light"
     },
     "output_type": "display_data"
    }
   ],
   "source": [
    "sns.FacetGrid(hab_data, hue=\"Survival status\", height=5) \\\n",
    "   .map(sns.distplot, \"Year\") \\\n",
    "   .add_legend();\n",
    "plt.show();"
   ]
  },
  {
   "cell_type": "markdown",
   "execution_count": null,
   "metadata": {
    "papermill": {
     "duration": 0.018876,
     "end_time": "2020-08-07T20:32:47.170786",
     "exception": false,
     "start_time": "2020-08-07T20:32:47.151910",
     "status": "completed"
    },
    "tags": []
   },
   "source": [
    "**Based On Age**"
   ]
  },
  {
   "cell_type": "code",
   "execution_count": 13,
   "metadata": {
    "execution": {
     "iopub.execute_input": "2020-08-07T20:32:47.227561Z",
     "iopub.status.busy": "2020-08-07T20:32:47.218306Z",
     "iopub.status.idle": "2020-08-07T20:32:47.728690Z",
     "shell.execute_reply": "2020-08-07T20:32:47.726466Z"
    },
    "papermill": {
     "duration": 0.539292,
     "end_time": "2020-08-07T20:32:47.729103",
     "exception": false,
     "start_time": "2020-08-07T20:32:47.189811",
     "status": "completed"
    },
    "tags": []
   },
   "outputs": [
    {
     "data": {
      "image/png": "[encoded data removed]",
      "text/plain": [
       "<Figure size 442.25x360 with 1 Axes>"
      ]
     },
     "metadata": {
      "needs_background": "light"
     },
     "output_type": "display_data"
    }
   ],
   "source": [
    "sns.FacetGrid(hab_data, hue=\"Survival status\", height=5) \\\n",
    "   .map(sns.distplot, \"Axillary nodes\") \\\n",
    "   .add_legend();\n",
    "plt.show();"
   ]
  },
  {
   "cell_type": "markdown",
   "execution_count": null,
   "metadata": {
    "papermill": {
     "duration": 0.026687,
     "end_time": "2020-08-07T20:32:47.783743",
     "exception": false,
     "start_time": "2020-08-07T20:32:47.757056",
     "status": "completed"
    },
    "tags": []
   },
   "source": [
    "**CDF**"
   ]
  },
  {
   "cell_type": "markdown",
   "execution_count": null,
   "metadata": {
    "papermill": {
     "duration": 0.026467,
     "end_time": "2020-08-07T20:32:47.837257",
     "exception": false,
     "start_time": "2020-08-07T20:32:47.810790",
     "status": "completed"
    },
    "tags": []
   },
   "source": [
    "**Here it will be divided into two labels**\n",
    "\n",
    "**1-Alive**\n",
    "\n",
    "**2-Dead**"
   ]
  },
  {
   "cell_type": "code",
   "execution_count": 14,
   "metadata": {
    "execution": {
     "iopub.execute_input": "2020-08-07T20:32:47.892274Z",
     "iopub.status.busy": "2020-08-07T20:32:47.891433Z",
     "iopub.status.idle": "2020-08-07T20:32:47.895736Z",
     "shell.execute_reply": "2020-08-07T20:32:47.894987Z"
    },
    "papermill": {
     "duration": 0.034358,
     "end_time": "2020-08-07T20:32:47.895891",
     "exception": false,
     "start_time": "2020-08-07T20:32:47.861533",
     "status": "completed"
    },
    "tags": []
   },
   "outputs": [],
   "source": [
    "alive=hab_data.loc[hab_data[\"Survival status\"]==1]\n",
    "dead=hab_data.loc[hab_data[\"Survival status\"]==2]"
   ]
  },
  {
   "cell_type": "code",
   "execution_count": 15,
   "metadata": {
    "execution": {
     "iopub.execute_input": "2020-08-07T20:32:47.949269Z",
     "iopub.status.busy": "2020-08-07T20:32:47.948200Z",
     "iopub.status.idle": "2020-08-07T20:32:47.954156Z",
     "shell.execute_reply": "2020-08-07T20:32:47.953375Z"
    },
    "papermill": {
     "duration": 0.03863,
     "end_time": "2020-08-07T20:32:47.954311",
     "exception": false,
     "start_time": "2020-08-07T20:32:47.915681",
     "status": "completed"
    },
    "tags": []
   },
   "outputs": [
    {
     "data": {
      "text/html": [
       "<div>\n",
       "<style scoped>\n",
       "    .dataframe tbody tr th:only-of-type {\n",
       "        vertical-align: middle;\n",
       "    }\n",
       "\n",
       "    .dataframe tbody tr th {\n",
       "        vertical-align: top;\n",
       "    }\n",
       "\n",
       "    .dataframe thead th {\n",
       "        text-align: right;\n",
       "    }\n",
       "</style>\n",
       "<table border=\"1\" class=\"dataframe\">\n",
       "  <thead>\n",
       "    <tr style=\"text-align: right;\">\n",
       "      <th></th>\n",
       "      <th>Age</th>\n",
       "      <th>Year</th>\n",
       "      <th>Axillary nodes</th>\n",
       "      <th>Survival status</th>\n",
       "    </tr>\n",
       "  </thead>\n",
       "  <tbody>\n",
       "    <tr>\n",
       "      <th>0</th>\n",
       "      <td>30</td>\n",
       "      <td>62</td>\n",
       "      <td>3</td>\n",
       "      <td>1</td>\n",
       "    </tr>\n",
       "    <tr>\n",
       "      <th>1</th>\n",
       "      <td>30</td>\n",
       "      <td>65</td>\n",
       "      <td>0</td>\n",
       "      <td>1</td>\n",
       "    </tr>\n",
       "    <tr>\n",
       "      <th>2</th>\n",
       "      <td>31</td>\n",
       "      <td>59</td>\n",
       "      <td>2</td>\n",
       "      <td>1</td>\n",
       "    </tr>\n",
       "    <tr>\n",
       "      <th>3</th>\n",
       "      <td>31</td>\n",
       "      <td>65</td>\n",
       "      <td>4</td>\n",
       "      <td>1</td>\n",
       "    </tr>\n",
       "    <tr>\n",
       "      <th>4</th>\n",
       "      <td>33</td>\n",
       "      <td>58</td>\n",
       "      <td>10</td>\n",
       "      <td>1</td>\n",
       "    </tr>\n",
       "  </tbody>\n",
       "</table>\n",
       "</div>"
      ],
      "text/plain": [
       "   Age  Year  Axillary nodes  Survival status\n",
       "0   30    62               3                1\n",
       "1   30    65               0                1\n",
       "2   31    59               2                1\n",
       "3   31    65               4                1\n",
       "4   33    58              10                1"
      ]
     },
     "execution_count": 15,
     "metadata": {},
     "output_type": "execute_result"
    }
   ],
   "source": [
    "hab_data.head()"
   ]
  },
  {
   "cell_type": "markdown",
   "execution_count": null,
   "metadata": {
    "papermill": {
     "duration": 0.018991,
     "end_time": "2020-08-07T20:32:47.992897",
     "exception": false,
     "start_time": "2020-08-07T20:32:47.973906",
     "status": "completed"
    },
    "tags": []
   },
   "source": [
    "**Histogram for Alive Ones**"
   ]
  },
  {
   "cell_type": "code",
   "execution_count": 16,
   "metadata": {
    "execution": {
     "iopub.execute_input": "2020-08-07T20:32:48.052272Z",
     "iopub.status.busy": "2020-08-07T20:32:48.051397Z",
     "iopub.status.idle": "2020-08-07T20:32:48.238987Z",
     "shell.execute_reply": "2020-08-07T20:32:48.239577Z"
    },
    "papermill": {
     "duration": 0.227733,
     "end_time": "2020-08-07T20:32:48.239814",
     "exception": false,
     "start_time": "2020-08-07T20:32:48.012081",
     "status": "completed"
    },
    "tags": []
   },
   "outputs": [
    {
     "name": "stdout",
     "output_type": "stream",
     "text": [
      "[0.66517857 0.125      0.04464286 0.02678571 0.02232143 0.03125\n",
      " 0.00892857 0.00892857 0.00446429 0.01785714 0.00446429 0.00446429\n",
      " 0.00446429 0.00446429 0.00892857 0.         0.00446429 0.\n",
      " 0.00446429 0.00446429 0.         0.         0.         0.\n",
      " 0.         0.         0.         0.         0.         0.00446429]\n",
      "[ 0.          1.53333333  3.06666667  4.6         6.13333333  7.66666667\n",
      "  9.2        10.73333333 12.26666667 13.8        15.33333333 16.86666667\n",
      " 18.4        19.93333333 21.46666667 23.         24.53333333 26.06666667\n",
      " 27.6        29.13333333 30.66666667 32.2        33.73333333 35.26666667\n",
      " 36.8        38.33333333 39.86666667 41.4        42.93333333 44.46666667\n",
      " 46.        ]\n"
     ]
    },
    {
     "data": {
      "image/png": "[encoded data removed]",
      "text/plain": [
       "<Figure size 432x288 with 1 Axes>"
      ]
     },
     "metadata": {
      "needs_background": "light"
     },
     "output_type": "display_data"
    }
   ],
   "source": [
    "counts, bin_edges = np.histogram(alive['Axillary nodes'], bins=30, density = True)\n",
    "pdf = counts/(sum(counts))\n",
    "print(pdf);\n",
    "print(bin_edges)\n",
    "cdf = np.cumsum(pdf)\n",
    "plt.plot(bin_edges[1:],pdf)\n",
    "plt.plot(bin_edges[1:], cdf)\n",
    "plt.legend(['Pdf for the patients who survive more than 5 years','Cdf for the patients who survive more than 5 years'])\n",
    "plt.show()"
   ]
  },
  {
   "cell_type": "markdown",
   "execution_count": null,
   "metadata": {
    "papermill": {
     "duration": 0.019757,
     "end_time": "2020-08-07T20:32:48.280446",
     "exception": false,
     "start_time": "2020-08-07T20:32:48.260689",
     "status": "completed"
    },
    "tags": []
   },
   "source": [
    "**Histogram for Dead Ones**"
   ]
  },
  {
   "cell_type": "code",
   "execution_count": 17,
   "metadata": {
    "execution": {
     "iopub.execute_input": "2020-08-07T20:32:48.334256Z",
     "iopub.status.busy": "2020-08-07T20:32:48.333114Z",
     "iopub.status.idle": "2020-08-07T20:32:48.538360Z",
     "shell.execute_reply": "2020-08-07T20:32:48.537683Z"
    },
    "papermill": {
     "duration": 0.237118,
     "end_time": "2020-08-07T20:32:48.538527",
     "exception": false,
     "start_time": "2020-08-07T20:32:48.301409",
     "status": "completed"
    },
    "tags": []
   },
   "outputs": [
    {
     "name": "stdout",
     "output_type": "stream",
     "text": [
      "[0.33333333 0.14814815 0.08641975 0.03703704 0.04938272 0.0617284\n",
      " 0.04938272 0.04938272 0.03703704 0.01234568 0.02469136 0.01234568\n",
      " 0.02469136 0.04938272 0.         0.         0.         0.\n",
      " 0.         0.         0.01234568 0.         0.         0.\n",
      " 0.         0.         0.         0.         0.         0.01234568]\n",
      "[ 0.          1.73333333  3.46666667  5.2         6.93333333  8.66666667\n",
      " 10.4        12.13333333 13.86666667 15.6        17.33333333 19.06666667\n",
      " 20.8        22.53333333 24.26666667 26.         27.73333333 29.46666667\n",
      " 31.2        32.93333333 34.66666667 36.4        38.13333333 39.86666667\n",
      " 41.6        43.33333333 45.06666667 46.8        48.53333333 50.26666667\n",
      " 52.        ]\n"
     ]
    },
    {
     "data": {
      "image/png": "[encoded data removed]",
      "text/plain": [
       "<Figure size 432x288 with 1 Axes>"
      ]
     },
     "metadata": {
      "needs_background": "light"
     },
     "output_type": "display_data"
    }
   ],
   "source": [
    "counts, bin_edges = np.histogram(dead['Axillary nodes'], bins=30, density=True)\n",
    "pdf = counts/(sum(counts))\n",
    "print(pdf);\n",
    "print(bin_edges)\n",
    "cdf = np.cumsum(pdf)\n",
    "plt.plot(bin_edges[1:],pdf)\n",
    "plt.plot(bin_edges[1:], cdf)\n",
    "plt.legend(['Pdf for the patients who dead Within 5 years','Cdf for the patients who dead within 5 years'])\n",
    "plt.show()"
   ]
  },
  {
   "cell_type": "markdown",
   "execution_count": null,
   "metadata": {
    "papermill": {
     "duration": 0.019482,
     "end_time": "2020-08-07T20:32:48.578058",
     "exception": false,
     "start_time": "2020-08-07T20:32:48.558576",
     "status": "completed"
    },
    "tags": []
   },
   "source": [
    "**Just some stats which makes us clear aboout the alive and dead one in 5 years**"
   ]
  },
  {
   "cell_type": "markdown",
   "execution_count": null,
   "metadata": {
    "papermill": {
     "duration": 0.019877,
     "end_time": "2020-08-07T20:32:48.618055",
     "exception": false,
     "start_time": "2020-08-07T20:32:48.598178",
     "status": "completed"
    },
    "tags": []
   },
   "source": [
    "***Mean, Variance And Standard Deviaton*****"
   ]
  },
  {
   "cell_type": "code",
   "execution_count": 18,
   "metadata": {
    "execution": {
     "iopub.execute_input": "2020-08-07T20:32:48.742534Z",
     "iopub.status.busy": "2020-08-07T20:32:48.723307Z",
     "iopub.status.idle": "2020-08-07T20:32:48.749436Z",
     "shell.execute_reply": "2020-08-07T20:32:48.748777Z"
    },
    "papermill": {
     "duration": 0.05904,
     "end_time": "2020-08-07T20:32:48.749569",
     "exception": false,
     "start_time": "2020-08-07T20:32:48.690529",
     "status": "completed"
    },
    "tags": []
   },
   "outputs": [
    {
     "name": "stdout",
     "output_type": "stream",
     "text": [
      "Summary Statistics of Patients who are alive for more than 5 years:\n"
     ]
    },
    {
     "data": {
      "text/html": [
       "<div>\n",
       "<style scoped>\n",
       "    .dataframe tbody tr th:only-of-type {\n",
       "        vertical-align: middle;\n",
       "    }\n",
       "\n",
       "    .dataframe tbody tr th {\n",
       "        vertical-align: top;\n",
       "    }\n",
       "\n",
       "    .dataframe thead th {\n",
       "        text-align: right;\n",
       "    }\n",
       "</style>\n",
       "<table border=\"1\" class=\"dataframe\">\n",
       "  <thead>\n",
       "    <tr style=\"text-align: right;\">\n",
       "      <th></th>\n",
       "      <th>Age</th>\n",
       "      <th>Year</th>\n",
       "      <th>Axillary nodes</th>\n",
       "      <th>Survival status</th>\n",
       "    </tr>\n",
       "  </thead>\n",
       "  <tbody>\n",
       "    <tr>\n",
       "      <th>count</th>\n",
       "      <td>224.000000</td>\n",
       "      <td>224.000000</td>\n",
       "      <td>224.000000</td>\n",
       "      <td>224.0</td>\n",
       "    </tr>\n",
       "    <tr>\n",
       "      <th>mean</th>\n",
       "      <td>52.116071</td>\n",
       "      <td>62.857143</td>\n",
       "      <td>2.799107</td>\n",
       "      <td>1.0</td>\n",
       "    </tr>\n",
       "    <tr>\n",
       "      <th>std</th>\n",
       "      <td>10.937446</td>\n",
       "      <td>3.229231</td>\n",
       "      <td>5.882237</td>\n",
       "      <td>0.0</td>\n",
       "    </tr>\n",
       "    <tr>\n",
       "      <th>min</th>\n",
       "      <td>30.000000</td>\n",
       "      <td>58.000000</td>\n",
       "      <td>0.000000</td>\n",
       "      <td>1.0</td>\n",
       "    </tr>\n",
       "    <tr>\n",
       "      <th>25%</th>\n",
       "      <td>43.000000</td>\n",
       "      <td>60.000000</td>\n",
       "      <td>0.000000</td>\n",
       "      <td>1.0</td>\n",
       "    </tr>\n",
       "    <tr>\n",
       "      <th>50%</th>\n",
       "      <td>52.000000</td>\n",
       "      <td>63.000000</td>\n",
       "      <td>0.000000</td>\n",
       "      <td>1.0</td>\n",
       "    </tr>\n",
       "    <tr>\n",
       "      <th>75%</th>\n",
       "      <td>60.000000</td>\n",
       "      <td>66.000000</td>\n",
       "      <td>3.000000</td>\n",
       "      <td>1.0</td>\n",
       "    </tr>\n",
       "    <tr>\n",
       "      <th>max</th>\n",
       "      <td>77.000000</td>\n",
       "      <td>69.000000</td>\n",
       "      <td>46.000000</td>\n",
       "      <td>1.0</td>\n",
       "    </tr>\n",
       "  </tbody>\n",
       "</table>\n",
       "</div>"
      ],
      "text/plain": [
       "              Age        Year  Axillary nodes  Survival status\n",
       "count  224.000000  224.000000      224.000000            224.0\n",
       "mean    52.116071   62.857143        2.799107              1.0\n",
       "std     10.937446    3.229231        5.882237              0.0\n",
       "min     30.000000   58.000000        0.000000              1.0\n",
       "25%     43.000000   60.000000        0.000000              1.0\n",
       "50%     52.000000   63.000000        0.000000              1.0\n",
       "75%     60.000000   66.000000        3.000000              1.0\n",
       "max     77.000000   69.000000       46.000000              1.0"
      ]
     },
     "execution_count": 18,
     "metadata": {},
     "output_type": "execute_result"
    }
   ],
   "source": [
    "print(\"Summary Statistics of Patients who are alive for more than 5 years:\")\n",
    "alive.describe()"
   ]
  },
  {
   "cell_type": "code",
   "execution_count": 19,
   "metadata": {
    "execution": {
     "iopub.execute_input": "2020-08-07T20:32:48.805134Z",
     "iopub.status.busy": "2020-08-07T20:32:48.802344Z",
     "iopub.status.idle": "2020-08-07T20:32:48.828591Z",
     "shell.execute_reply": "2020-08-07T20:32:48.827772Z"
    },
    "papermill": {
     "duration": 0.05879,
     "end_time": "2020-08-07T20:32:48.828800",
     "exception": false,
     "start_time": "2020-08-07T20:32:48.770010",
     "status": "completed"
    },
    "tags": []
   },
   "outputs": [
    {
     "name": "stdout",
     "output_type": "stream",
     "text": [
      "Summary Statistics of Patients who are dead within 5 years:\n"
     ]
    },
    {
     "data": {
      "text/html": [
       "<div>\n",
       "<style scoped>\n",
       "    .dataframe tbody tr th:only-of-type {\n",
       "        vertical-align: middle;\n",
       "    }\n",
       "\n",
       "    .dataframe tbody tr th {\n",
       "        vertical-align: top;\n",
       "    }\n",
       "\n",
       "    .dataframe thead th {\n",
       "        text-align: right;\n",
       "    }\n",
       "</style>\n",
       "<table border=\"1\" class=\"dataframe\">\n",
       "  <thead>\n",
       "    <tr style=\"text-align: right;\">\n",
       "      <th></th>\n",
       "      <th>Age</th>\n",
       "      <th>Year</th>\n",
       "      <th>Axillary nodes</th>\n",
       "      <th>Survival status</th>\n",
       "    </tr>\n",
       "  </thead>\n",
       "  <tbody>\n",
       "    <tr>\n",
       "      <th>count</th>\n",
       "      <td>81.000000</td>\n",
       "      <td>81.000000</td>\n",
       "      <td>81.000000</td>\n",
       "      <td>81.0</td>\n",
       "    </tr>\n",
       "    <tr>\n",
       "      <th>mean</th>\n",
       "      <td>53.679012</td>\n",
       "      <td>62.827160</td>\n",
       "      <td>7.456790</td>\n",
       "      <td>2.0</td>\n",
       "    </tr>\n",
       "    <tr>\n",
       "      <th>std</th>\n",
       "      <td>10.167137</td>\n",
       "      <td>3.342118</td>\n",
       "      <td>9.185654</td>\n",
       "      <td>0.0</td>\n",
       "    </tr>\n",
       "    <tr>\n",
       "      <th>min</th>\n",
       "      <td>34.000000</td>\n",
       "      <td>58.000000</td>\n",
       "      <td>0.000000</td>\n",
       "      <td>2.0</td>\n",
       "    </tr>\n",
       "    <tr>\n",
       "      <th>25%</th>\n",
       "      <td>46.000000</td>\n",
       "      <td>59.000000</td>\n",
       "      <td>1.000000</td>\n",
       "      <td>2.0</td>\n",
       "    </tr>\n",
       "    <tr>\n",
       "      <th>50%</th>\n",
       "      <td>53.000000</td>\n",
       "      <td>63.000000</td>\n",
       "      <td>4.000000</td>\n",
       "      <td>2.0</td>\n",
       "    </tr>\n",
       "    <tr>\n",
       "      <th>75%</th>\n",
       "      <td>61.000000</td>\n",
       "      <td>65.000000</td>\n",
       "      <td>11.000000</td>\n",
       "      <td>2.0</td>\n",
       "    </tr>\n",
       "    <tr>\n",
       "      <th>max</th>\n",
       "      <td>83.000000</td>\n",
       "      <td>69.000000</td>\n",
       "      <td>52.000000</td>\n",
       "      <td>2.0</td>\n",
       "    </tr>\n",
       "  </tbody>\n",
       "</table>\n",
       "</div>"
      ],
      "text/plain": [
       "             Age       Year  Axillary nodes  Survival status\n",
       "count  81.000000  81.000000       81.000000             81.0\n",
       "mean   53.679012  62.827160        7.456790              2.0\n",
       "std    10.167137   3.342118        9.185654              0.0\n",
       "min    34.000000  58.000000        0.000000              2.0\n",
       "25%    46.000000  59.000000        1.000000              2.0\n",
       "50%    53.000000  63.000000        4.000000              2.0\n",
       "75%    61.000000  65.000000       11.000000              2.0\n",
       "max    83.000000  69.000000       52.000000              2.0"
      ]
     },
     "execution_count": 19,
     "metadata": {},
     "output_type": "execute_result"
    }
   ],
   "source": [
    "print(\"Summary Statistics of Patients who are dead within 5 years:\")\n",
    "dead.describe()"
   ]
  },
  {
   "cell_type": "markdown",
   "execution_count": null,
   "metadata": {
    "papermill": {
     "duration": 0.021977,
     "end_time": "2020-08-07T20:32:48.872267",
     "exception": false,
     "start_time": "2020-08-07T20:32:48.850290",
     "status": "completed"
    },
    "tags": []
   },
   "source": [
    "Observations:\n",
    "\n",
    "    From both the tables we can observe that almost for all the features the statistics are similar except for Axillary nodes.\n",
    "\n",
    "    The auxillary nodes mean(average) is more for people who died within 5 years than people who live more than 5 years\n",
    "\n",
    "    From the observation of Cdfs, we can infer that patients above 46 axillary nodes detected can be considered as dead within 5 years."
   ]
  },
  {
   "cell_type": "markdown",
   "execution_count": null,
   "metadata": {
    "papermill": {
     "duration": 0.021583,
     "end_time": "2020-08-07T20:32:48.915877",
     "exception": false,
     "start_time": "2020-08-07T20:32:48.894294",
     "status": "completed"
    },
    "tags": []
   },
   "source": [
    "**Box Plot and Whiskers**"
   ]
  },
  {
   "cell_type": "code",
   "execution_count": 20,
   "metadata": {
    "execution": {
     "iopub.execute_input": "2020-08-07T20:32:49.073910Z",
     "iopub.status.busy": "2020-08-07T20:32:49.073055Z",
     "iopub.status.idle": "2020-08-07T20:32:49.213261Z",
     "shell.execute_reply": "2020-08-07T20:32:49.212529Z"
    },
    "papermill": {
     "duration": 0.274438,
     "end_time": "2020-08-07T20:32:49.213408",
     "exception": false,
     "start_time": "2020-08-07T20:32:48.938970",
     "status": "completed"
    },
    "tags": []
   },
   "outputs": [
    {
     "data": {
      "image/png": "[encoded data removed]",
      "text/plain": [
       "<Figure size 432x288 with 1 Axes>"
      ]
     },
     "metadata": {
      "needs_background": "light"
     },
     "output_type": "display_data"
    }
   ],
   "source": [
    "sns.boxplot(x='Survival status',y='Axillary nodes', data=hab_data)\n",
    "plt.show()"
   ]
  },
  {
   "cell_type": "code",
   "execution_count": 21,
   "metadata": {
    "execution": {
     "iopub.execute_input": "2020-08-07T20:32:49.277166Z",
     "iopub.status.busy": "2020-08-07T20:32:49.274714Z",
     "iopub.status.idle": "2020-08-07T20:32:49.417094Z",
     "shell.execute_reply": "2020-08-07T20:32:49.416383Z"
    },
    "papermill": {
     "duration": 0.180912,
     "end_time": "2020-08-07T20:32:49.417267",
     "exception": false,
     "start_time": "2020-08-07T20:32:49.236355",
     "status": "completed"
    },
    "tags": []
   },
   "outputs": [
    {
     "data": {
      "image/png": "[encoded data removed]",
      "text/plain": [
       "<Figure size 432x288 with 1 Axes>"
      ]
     },
     "metadata": {
      "needs_background": "light"
     },
     "output_type": "display_data"
    }
   ],
   "source": [
    "sns.boxplot(x='Survival status',y='Year', data=hab_data)\n",
    "plt.show()"
   ]
  },
  {
   "cell_type": "code",
   "execution_count": 22,
   "metadata": {
    "execution": {
     "iopub.execute_input": "2020-08-07T20:32:49.480402Z",
     "iopub.status.busy": "2020-08-07T20:32:49.479526Z",
     "iopub.status.idle": "2020-08-07T20:32:49.635632Z",
     "shell.execute_reply": "2020-08-07T20:32:49.634979Z"
    },
    "papermill": {
     "duration": 0.194708,
     "end_time": "2020-08-07T20:32:49.635787",
     "exception": false,
     "start_time": "2020-08-07T20:32:49.441079",
     "status": "completed"
    },
    "tags": []
   },
   "outputs": [
    {
     "data": {
      "image/png": "[encoded data removed]",
      "text/plain": [
       "<Figure size 432x288 with 1 Axes>"
      ]
     },
     "metadata": {
      "needs_background": "light"
     },
     "output_type": "display_data"
    }
   ],
   "source": [
    "sns.boxplot(x='Survival status',y='Age', data=hab_data)\n",
    "plt.show()"
   ]
  },
  {
   "cell_type": "markdown",
   "execution_count": null,
   "metadata": {
    "papermill": {
     "duration": 0.022369,
     "end_time": "2020-08-07T20:32:49.680400",
     "exception": false,
     "start_time": "2020-08-07T20:32:49.658031",
     "status": "completed"
    },
    "tags": []
   },
   "source": [
    "**Violin Plots**"
   ]
  },
  {
   "cell_type": "markdown",
   "execution_count": null,
   "metadata": {
    "papermill": {
     "duration": 0.022475,
     "end_time": "2020-08-07T20:32:49.725495",
     "exception": false,
     "start_time": "2020-08-07T20:32:49.703020",
     "status": "completed"
    },
    "tags": []
   },
   "source": [
    "***In this plot mainly data are fatter and sparser ones thinner***"
   ]
  },
  {
   "cell_type": "code",
   "execution_count": 23,
   "metadata": {
    "execution": {
     "iopub.execute_input": "2020-08-07T20:32:49.778990Z",
     "iopub.status.busy": "2020-08-07T20:32:49.778179Z",
     "iopub.status.idle": "2020-08-07T20:32:49.958065Z",
     "shell.execute_reply": "2020-08-07T20:32:49.957309Z"
    },
    "papermill": {
     "duration": 0.210556,
     "end_time": "2020-08-07T20:32:49.958232",
     "exception": false,
     "start_time": "2020-08-07T20:32:49.747676",
     "status": "completed"
    },
    "tags": []
   },
   "outputs": [
    {
     "data": {
      "image/png": "[encoded data removed]",
      "text/plain": [
       "<Figure size 432x288 with 1 Axes>"
      ]
     },
     "metadata": {
      "needs_background": "light"
     },
     "output_type": "display_data"
    }
   ],
   "source": [
    "sns.violinplot(x='Survival status',y='Year', data=hab_data,height=8)\n",
    "plt.show()"
   ]
  },
  {
   "cell_type": "code",
   "execution_count": 24,
   "metadata": {
    "execution": {
     "iopub.execute_input": "2020-08-07T20:32:50.033903Z",
     "iopub.status.busy": "2020-08-07T20:32:50.017707Z",
     "iopub.status.idle": "2020-08-07T20:32:50.178425Z",
     "shell.execute_reply": "2020-08-07T20:32:50.177677Z"
    },
    "papermill": {
     "duration": 0.197075,
     "end_time": "2020-08-07T20:32:50.178577",
     "exception": false,
     "start_time": "2020-08-07T20:32:49.981502",
     "status": "completed"
    },
    "tags": []
   },
   "outputs": [
    {
     "data": {
      "image/png": "[encoded data removed]",
      "text/plain": [
       "<Figure size 432x288 with 1 Axes>"
      ]
     },
     "metadata": {
      "needs_background": "light"
     },
     "output_type": "display_data"
    }
   ],
   "source": [
    "sns.violinplot(x='Survival status',y='Age', data=hab_data,height=8)\n",
    "plt.show()"
   ]
  },
  {
   "cell_type": "code",
   "execution_count": 25,
   "metadata": {
    "execution": {
     "iopub.execute_input": "2020-08-07T20:32:50.245103Z",
     "iopub.status.busy": "2020-08-07T20:32:50.242039Z",
     "iopub.status.idle": "2020-08-07T20:32:50.413808Z",
     "shell.execute_reply": "2020-08-07T20:32:50.412890Z"
    },
    "papermill": {
     "duration": 0.212521,
     "end_time": "2020-08-07T20:32:50.413975",
     "exception": false,
     "start_time": "2020-08-07T20:32:50.201454",
     "status": "completed"
    },
    "tags": []
   },
   "outputs": [
    {
     "data": {
      "image/png": "[encoded data removed]",
      "text/plain": [
       "<Figure size 432x288 with 1 Axes>"
      ]
     },
     "metadata": {
      "needs_background": "light"
     },
     "output_type": "display_data"
    }
   ],
   "source": [
    "sns.violinplot(x='Survival status',y='Axillary nodes', data=hab_data,height=8)\n",
    "plt.show()"
   ]
  },
  {
   "cell_type": "markdown",
   "execution_count": null,
   "metadata": {
    "papermill": {
     "duration": 0.023513,
     "end_time": "2020-08-07T20:32:50.461880",
     "exception": false,
     "start_time": "2020-08-07T20:32:50.438367",
     "status": "completed"
    },
    "tags": []
   },
   "source": [
    "****\n",
    "Observation:\n",
    "\n",
    "    From box,violin plots we can say that more no of patients who are dead have age between 46-62,year between 59-65 and the patients who survived have age between 42-60, year between 60-66.\n",
    "\n",
    "****"
   ]
  },
  {
   "cell_type": "markdown",
   "execution_count": null,
   "metadata": {
    "papermill": {
     "duration": 0.023036,
     "end_time": "2020-08-07T20:32:50.508424",
     "exception": false,
     "start_time": "2020-08-07T20:32:50.485388",
     "status": "completed"
    },
    "tags": []
   },
   "source": [
    "Bi Variate Analysis"
   ]
  },
  {
   "cell_type": "markdown",
   "execution_count": null,
   "metadata": {
    "papermill": {
     "duration": 0.022168,
     "end_time": "2020-08-07T20:32:50.553474",
     "exception": false,
     "start_time": "2020-08-07T20:32:50.531306",
     "status": "completed"
    },
    "tags": []
   },
   "source": [
    "**Scatter Plot**"
   ]
  },
  {
   "cell_type": "markdown",
   "execution_count": null,
   "metadata": {
    "papermill": {
     "duration": 0.022326,
     "end_time": "2020-08-07T20:32:50.598572",
     "exception": false,
     "start_time": "2020-08-07T20:32:50.576246",
     "status": "completed"
    },
    "tags": []
   },
   "source": [
    "***Plotting a plain plot of auxiliary nodes and age***"
   ]
  },
  {
   "cell_type": "code",
   "execution_count": 26,
   "metadata": {
    "execution": {
     "iopub.execute_input": "2020-08-07T20:32:50.651876Z",
     "iopub.status.busy": "2020-08-07T20:32:50.651052Z",
     "iopub.status.idle": "2020-08-07T20:32:50.842028Z",
     "shell.execute_reply": "2020-08-07T20:32:50.841328Z"
    },
    "papermill": {
     "duration": 0.22012,
     "end_time": "2020-08-07T20:32:50.842176",
     "exception": false,
     "start_time": "2020-08-07T20:32:50.622056",
     "status": "completed"
    },
    "tags": []
   },
   "outputs": [
    {
     "data": {
      "image/png": "[encoded data removed]",
      "text/plain": [
       "<Figure size 432x288 with 1 Axes>"
      ]
     },
     "metadata": {
      "needs_background": "light"
     },
     "output_type": "display_data"
    }
   ],
   "source": [
    "hab_data.plot(kind='scatter', x='Age', y='Axillary nodes') ;\n",
    "plt.show()"
   ]
  },
  {
   "cell_type": "markdown",
   "execution_count": null,
   "metadata": {
    "papermill": {
     "duration": 0.023546,
     "end_time": "2020-08-07T20:32:50.890344",
     "exception": false,
     "start_time": "2020-08-07T20:32:50.866798",
     "status": "completed"
    },
    "tags": []
   },
   "source": [
    "***Plotting the scatter plot with whitegrid and keeping the height as 6***"
   ]
  },
  {
   "cell_type": "code",
   "execution_count": 27,
   "metadata": {
    "execution": {
     "iopub.execute_input": "2020-08-07T20:32:50.950208Z",
     "iopub.status.busy": "2020-08-07T20:32:50.947744Z",
     "iopub.status.idle": "2020-08-07T20:32:51.538008Z",
     "shell.execute_reply": "2020-08-07T20:32:51.537334Z"
    },
    "papermill": {
     "duration": 0.62213,
     "end_time": "2020-08-07T20:32:51.538147",
     "exception": false,
     "start_time": "2020-08-07T20:32:50.916017",
     "status": "completed"
    },
    "tags": []
   },
   "outputs": [
    {
     "data": {
      "image/png": "[encoded data removed]",
      "text/plain": [
       "<Figure size 514.25x432 with 1 Axes>"
      ]
     },
     "metadata": {},
     "output_type": "display_data"
    }
   ],
   "source": [
    "sns.set_style(\"whitegrid\");\n",
    "sns.FacetGrid(hab_data, hue=\"Survival status\", height=6) \\\n",
    "   .map(plt.scatter, \"Age\", \"Axillary nodes\") \\\n",
    "   .add_legend();\n",
    "plt.show();"
   ]
  },
  {
   "cell_type": "markdown",
   "execution_count": null,
   "metadata": {
    "papermill": {
     "duration": 0.022891,
     "end_time": "2020-08-07T20:32:51.584441",
     "exception": false,
     "start_time": "2020-08-07T20:32:51.561550",
     "status": "completed"
    },
    "tags": []
   },
   "source": [
    "**\n",
    "Observation:\n",
    "\n",
    "    It seems most of the patients have 0 Auxillary nodes detected.\n",
    "\n",
    "**"
   ]
  },
  {
   "cell_type": "markdown",
   "execution_count": null,
   "metadata": {
    "papermill": {
     "duration": 0.023746,
     "end_time": "2020-08-07T20:32:51.631733",
     "exception": false,
     "start_time": "2020-08-07T20:32:51.607987",
     "status": "completed"
    },
    "tags": []
   },
   "source": [
    "**Multivariate Analysis**"
   ]
  },
  {
   "cell_type": "markdown",
   "execution_count": null,
   "metadata": {
    "papermill": {
     "duration": 0.023036,
     "end_time": "2020-08-07T20:32:51.678180",
     "exception": false,
     "start_time": "2020-08-07T20:32:51.655144",
     "status": "completed"
    },
    "tags": []
   },
   "source": [
    "**Pair Plot**"
   ]
  },
  {
   "cell_type": "markdown",
   "execution_count": null,
   "metadata": {
    "papermill": {
     "duration": 0.02313,
     "end_time": "2020-08-07T20:32:51.724708",
     "exception": false,
     "start_time": "2020-08-07T20:32:51.701578",
     "status": "completed"
    },
    "tags": []
   },
   "source": [
    "**In this plot every diagonal elements is PDF for each feature**"
   ]
  },
  {
   "cell_type": "code",
   "execution_count": 28,
   "metadata": {
    "execution": {
     "iopub.execute_input": "2020-08-07T20:32:51.784761Z",
     "iopub.status.busy": "2020-08-07T20:32:51.779571Z",
     "iopub.status.idle": "2020-08-07T20:32:56.209978Z",
     "shell.execute_reply": "2020-08-07T20:32:56.210681Z"
    },
    "papermill": {
     "duration": 4.462592,
     "end_time": "2020-08-07T20:32:56.210892",
     "exception": false,
     "start_time": "2020-08-07T20:32:51.748300",
     "status": "completed"
    },
    "tags": []
   },
   "outputs": [
    {
     "data": {
      "image/png": "[encoded data removed]",
      "text/plain": [
       "<Figure size 730.25x648 with 12 Axes>"
      ]
     },
     "metadata": {},
     "output_type": "display_data"
    }
   ],
   "source": [
    "plt.close();\n",
    "sns.set_style(\"whitegrid\");\n",
    "sns.pairplot(hab_data, hue=\"Survival status\",\n",
    "             vars=['Age','Year','Axillary nodes'], height=3)\n",
    "plt.show()"
   ]
  },
  {
   "cell_type": "markdown",
   "execution_count": null,
   "metadata": {
    "papermill": {
     "duration": 0.026425,
     "end_time": "2020-08-07T20:32:56.264005",
     "exception": false,
     "start_time": "2020-08-07T20:32:56.237580",
     "status": "completed"
    },
    "tags": []
   },
   "source": [
    "**In this we aren't able to distinguish**"
   ]
  },
  {
   "cell_type": "markdown",
   "execution_count": null,
   "metadata": {
    "papermill": {
     "duration": 0.026533,
     "end_time": "2020-08-07T20:32:56.317547",
     "exception": false,
     "start_time": "2020-08-07T20:32:56.291014",
     "status": "completed"
    },
    "tags": []
   },
   "source": [
    "**Contors Plots**"
   ]
  },
  {
   "cell_type": "code",
   "execution_count": 29,
   "metadata": {
    "execution": {
     "iopub.execute_input": "2020-08-07T20:32:56.389680Z",
     "iopub.status.busy": "2020-08-07T20:32:56.387383Z",
     "iopub.status.idle": "2020-08-07T20:32:58.328054Z",
     "shell.execute_reply": "2020-08-07T20:32:58.327244Z"
    },
    "papermill": {
     "duration": 1.983519,
     "end_time": "2020-08-07T20:32:58.328199",
     "exception": false,
     "start_time": "2020-08-07T20:32:56.344680",
     "status": "completed"
    },
    "tags": []
   },
   "outputs": [
    {
     "data": {
      "image/png": "[encoded data removed]",
      "text/plain": [
       "<Figure size 432x432 with 3 Axes>"
      ]
     },
     "metadata": {},
     "output_type": "display_data"
    }
   ],
   "source": [
    "sns.jointplot(x=\"Age\", y=\"Year\", data=hab_data, kind=\"kde\");\n",
    "plt.show();"
   ]
  },
  {
   "cell_type": "markdown",
   "execution_count": null,
   "metadata": {
    "papermill": {
     "duration": 0.024555,
     "end_time": "2020-08-07T20:32:58.377802",
     "exception": false,
     "start_time": "2020-08-07T20:32:58.353247",
     "status": "completed"
    },
    "tags": []
   },
   "source": [
    "**Parallel Coordinates**"
   ]
  },
  {
   "cell_type": "code",
   "execution_count": 30,
   "metadata": {
    "execution": {
     "iopub.execute_input": "2020-08-07T20:32:58.439803Z",
     "iopub.status.busy": "2020-08-07T20:32:58.438290Z",
     "iopub.status.idle": "2020-08-07T20:32:59.171698Z",
     "shell.execute_reply": "2020-08-07T20:32:59.170913Z"
    },
    "papermill": {
     "duration": 0.768974,
     "end_time": "2020-08-07T20:32:59.171833",
     "exception": false,
     "start_time": "2020-08-07T20:32:58.402859",
     "status": "completed"
    },
    "tags": []
   },
   "outputs": [
    {
     "data": {
      "text/plain": [
       "<matplotlib.axes._subplots.AxesSubplot at 0x7f0a2ca5f690>"
      ]
     },
     "execution_count": 30,
     "metadata": {},
     "output_type": "execute_result"
    },
    {
     "data": {
      "image/png": "[encoded data removed]",
      "text/plain": [
       "<Figure size 432x288 with 1 Axes>"
      ]
     },
     "metadata": {},
     "output_type": "display_data"
    }
   ],
   "source": [
    "from pandas.plotting import parallel_coordinates\n",
    "parallel_coordinates(hab_data, \"Survival status\",color=['g','y'])"
   ]
  },
  {
   "cell_type": "markdown",
   "execution_count": null,
   "metadata": {
    "papermill": {
     "duration": 0.025666,
     "end_time": "2020-08-07T20:32:59.223139",
     "exception": false,
     "start_time": "2020-08-07T20:32:59.197473",
     "status": "completed"
    },
    "tags": []
   },
   "source": [
    "**\n",
    "Conclusin through observations\n",
    "\n",
    "    No of person who posess high no of axillary nodes indicates that they have high probablity of Not surviving.\n",
    "\n",
    "    Axillary nodes is most important feature/attribute to predict the survival status of person.\n",
    "\n",
    "    The person with 0 axillary node is most likely to be survive.\n",
    "\n",
    "    The least usefull attribute to predict the survival status of person is 'year of operation'\n",
    "\n",
    "    Most of the persons who performed surgery were between 42-60 years of age\n",
    "\n",
    "    The majority of the surgeries were performed between 1960 - 1966.\n",
    "\n",
    "**"
   ]
  },
  {
   "cell_type": "markdown",
   "execution_count": null,
   "metadata": {
    "papermill": {
     "duration": 0.025262,
     "end_time": "2020-08-07T20:32:59.273990",
     "exception": false,
     "start_time": "2020-08-07T20:32:59.248728",
     "status": "completed"
    },
    "tags": []
   },
   "source": [
    "**From the univariate, bivarite analysis it is clear that there are overlapping occurs in all analysis.**\n",
    "\n",
    "**Through bi-variate analysis we can observe that no two specific combination of features are useful in classification.**\n",
    "\n",
    "**Since overlapping occurs in all the features age, year and the nodes it is clear that, one feature is dependent on all others and vice-versa.**\n",
    "\n",
    "**So all the features are must needed for the classification of the survival status.**"
   ]
  },
  {
   "cell_type": "code",
   "execution_count": null,
   "metadata": {
    "papermill": {
     "duration": 0.025263,
     "end_time": "2020-08-07T20:32:59.325066",
     "exception": false,
     "start_time": "2020-08-07T20:32:59.299803",
     "status": "completed"
    },
    "tags": []
   },
   "outputs": [],
   "source": []
  }
 ],
 "metadata": {
  "kernelspec": {
   "display_name": "Python 3",
   "language": "python",
   "name": "python3"
  },
  "language_info": {
   "codemirror_mode": {
    "name": "ipython",
    "version": 3
   },
   "file_extension": ".py",
   "mimetype": "text/x-python",
   "name": "python",
   "nbconvert_exporter": "python",
   "pygments_lexer": "ipython3",
   "version": "3.7.6"
  },
  "papermill": {
   "duration": 21.180463,
   "end_time": "2020-08-07T20:32:59.460221",
   "environment_variables": {},
   "exception": null,
   "input_path": "__notebook__.ipynb",
   "output_path": "__notebook__.ipynb",
   "parameters": {},
   "start_time": "2020-08-07T20:32:38.279758",
   "version": "2.1.0"
  }
 },
 "nbformat": 4,
 "nbformat_minor": 4
}
